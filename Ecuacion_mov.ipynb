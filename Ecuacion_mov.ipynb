{
 "cells": [
  {
   "cell_type": "code",
   "execution_count": 47,
   "metadata": {
    "collapsed": true
   },
   "outputs": [],
   "source": [
    "from pylab import *\n",
    "%matplotlib inline"
   ]
  },
  {
   "cell_type": "code",
   "execution_count": 63,
   "metadata": {
    "collapsed": false
   },
   "outputs": [],
   "source": [
    "def rk4(ec,p_ini,x,args=0,h=0.01): #Runge Kutta de segundo orden\n",
    "    tiempos=arange(x[0],x[1]+h,h)\n",
    "    sol=zeros((len(tiempos),len(p_ini)))\n",
    "    sol[0,:]=p_ini\n",
    "    if args==0:\n",
    "        for i in xrange(len(tiempos)-1):\n",
    "            k1=ec(sol[i,:],tiempos[i])\n",
    "            k2=ec(sol[i,:]+0.5*h*k1,tiempos[i]+0.5*h)\n",
    "            k3=ec(sol[i,:]+0.5*h*k2,tiempos[i]+0.5*h)\n",
    "            k4=ec(sol[i,:]+h*k3,tiempos[i]+h)\n",
    "        #evaluando en el i-esimo\n",
    "            sol[i+1,:]=sol[i,:]+(h/6.)*(k1+2*k2+2*k3+k4) #cero no esta involucrado, esta en cuenta en p_ini\n",
    "    else:\n",
    "        for i in xrange(len(tiempos)-1):\n",
    "            k1=ec(sol[i,:],tiempos[i],args)\n",
    "            k2=ec(sol[i,:]+0.5*h*k1,tiempos[i]+0.5*h,args)\n",
    "            k3=ec(sol[i,:]+0.5*h*k2,tiempos[i]+0.5*h,args)\n",
    "            k4=ec(sol[i,:]+h*k3,tiempos[i]+h,args)\n",
    "            sol[i+1,:]=sol[i,:]+(h/6.)*(k1+2*k2+2*k3+k4)\n",
    "    return tiempos,sol"
   ]
  },
  {
   "cell_type": "code",
   "execution_count": 64,
   "metadata": {
    "collapsed": false
   },
   "outputs": [],
   "source": [
    "def ec_mov(r_v,t,fric=0,g=9.8,m=1): #ecuaciones de movimiento\n",
    "    u=sqrt(r_v[2]**2+r_v[3]**2)\n",
    "    dx=r_v[2]  #velocidad en r_v=(x,y,vx,vy)=(0,1,2,3) r=(pos),v=(vel)\n",
    "    dy=r_v[3]\n",
    "    if fric==0:\n",
    "        dvx,dvy=0,-(g/m)\n",
    "        #print \"No use modelo de fricción\"\n",
    "    else:\n",
    "        dvx=-(fric([r_v[2],r_v[3]]))[0]\n",
    "        dvy=-(g/m)-(fric([r_v[2],r_v[3]]))[1]\n",
    "        #print \"Use modelo de fricción\"\n",
    "    return array([dx,dy,dvx,dvy])"
   ]
  },
  {
   "cell_type": "code",
   "execution_count": 65,
   "metadata": {
    "collapsed": false
   },
   "outputs": [],
   "source": [
    "#Modelos de friccion\n",
    "def fric_id(v): #friccion ideal\n",
    "    return array([0,0])\n",
    "\n",
    "def fric_v(v,gamma=0.1):\n",
    "    f_x=gamma*v[0]\n",
    "    f_y=gamma*v[1]\n",
    "    return array([f_x,f_y])\n",
    "\n",
    "def fric_v2(v,gamma=0.1):\n",
    "    norm_v=sqrt(v[0]**2+v[1]**2)\n",
    "    f_x=gamma*norm_v*v[0]\n",
    "    f_y=gamma*norm_v*v[1]\n",
    "    return array([f_x,f_y])\n",
    "    "
   ]
  },
  {
   "cell_type": "code",
   "execution_count": 69,
   "metadata": {
    "collapsed": false,
    "scrolled": false
   },
   "outputs": [
    {
     "data": {
      "image/png": "[encoded data removed]",
      "text/plain": [
       "<matplotlib.figure.Figure at 0x10f596f10>"
      ]
     },
     "metadata": {},
     "output_type": "display_data"
    }
   ],
   "source": [
    "p=[0,0,5,5]\n",
    "t,sol_id=rk4(ec_mov,p,[0,1])\n",
    "t,sol_fv=rk4(ec_mov,p,[0,1],fric_v)\n",
    "t,sol_fv2=rk4(ec_mov,p,[0,1],fric_v2)\n",
    "plot(sol_id[:,0],sol_id[:,1])\n",
    "plot(sol_fv[:,0],sol_fv[:,1])\n",
    "plot(sol_fv2[:,0],sol_fv2[:,1])\n",
    "show()"
   ]
  },
  {
   "cell_type": "code",
   "execution_count": 35,
   "metadata": {
    "collapsed": false
   },
   "outputs": [
    {
     "name": "stdout",
     "output_type": "stream",
     "text": [
      "[ 1.   1.   0.  -9.8]\n",
      "[ 1.   1.   0.  -9.8]\n",
      "[ 1.   1.  -0.1 -9.9]\n",
      "[ 1.          1.         -0.14142136 -9.94142136]\n"
     ]
    }
   ],
   "source": [
    "print ec_mov([1,1,1,1],1)\n",
    "print ec_mov([1,1,1,1],1,fric_id)\n",
    "print ec_mov([1,1,1,1],1,fric_v)\n",
    "print ec_mov([1,1,1,1],1,fric_v2)"
   ]
  },
  {
   "cell_type": "code",
   "execution_count": 75,
   "metadata": {
    "collapsed": false
   },
   "outputs": [
    {
     "name": "stdout",
     "output_type": "stream",
     "text": [
      "0.486963819865\n",
      "-0.311193109272\n"
     ]
    }
   ],
   "source": [
    "print sol_fv2[80,:][1]\n",
    "print sol_fv2[-1,:][1]"
   ]
  },
  {
   "cell_type": "code",
   "execution_count": null,
   "metadata": {
    "collapsed": true
   },
   "outputs": [],
   "source": []
  }
 ],
 "metadata": {
  "kernelspec": {
   "display_name": "Python [Root]",
   "language": "python",
   "name": "Python [Root]"
  },
  "language_info": {
   "codemirror_mode": {
    "name": "ipython",
    "version": 2
   },
   "file_extension": ".py",
   "mimetype": "text/x-python",
   "name": "python",
   "nbconvert_exporter": "python",
   "pygments_lexer": "ipython2",
   "version": "2.7.12"
  }
 },
 "nbformat": 4,
 "nbformat_minor": 0
}
