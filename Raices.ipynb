{
 "cells": [
  {
   "cell_type": "code",
   "execution_count": 2,
   "metadata": {
    "collapsed": false
   },
   "outputs": [],
   "source": [
    "from pylab import *\n",
    "%matplotlib inline"
   ]
  },
  {
   "cell_type": "code",
   "execution_count": 3,
   "metadata": {
    "collapsed": false
   },
   "outputs": [],
   "source": [
    "def raiz_bip(func,x_i,x_d,err=1e-5): \n",
    "    raiz=0.5*(x_i+x_d) #punto medio\n",
    "    y_i,y_d=func(x_i),func(x_d)\n",
    "    n=0\n",
    "    while abs(raiz-x_d)>=err and abs(y_i-y_d)>=err : #error sobre el eje x, abs(raiz-x_d)=>=err  encuentra el cero del error\n",
    "        y_m=func(raiz)\n",
    "        if y_m==0:\n",
    "            print \"raiz exacta\"\n",
    "            break\n",
    "        if y_m*y_i<0:\n",
    "            x_d=raiz\n",
    "        else:\n",
    "            x_i=raiz\n",
    "        raiz=0.5*(x_i+x_d)\n",
    "        y_i,y_d=func(x_i),func(x_d)\n",
    "        n+=1\n",
    "        print \"paso:\",n,\"raiz:\",raiz\n",
    "    return raiz"
   ]
  },
  {
   "cell_type": "code",
   "execution_count": 4,
   "metadata": {
    "collapsed": false
   },
   "outputs": [
    {
     "data": {
      "image/png": "[encoded data removed]",
      "text/plain": [
       "<matplotlib.figure.Figure at 0x10c088190>"
      ]
     },
     "metadata": {},
     "output_type": "display_data"
    }
   ],
   "source": [
    "x=linspace(4,5)\n",
    "plot(x,sin(x))\n",
    "grid(True)\n",
    "show()"
   ]
  },
  {
   "cell_type": "code",
   "execution_count": 5,
   "metadata": {
    "collapsed": false
   },
   "outputs": [
    {
     "name": "stdout",
     "output_type": "stream",
     "text": [
      "La raiz es: raiz exacta\n",
      "0.0\n"
     ]
    }
   ],
   "source": [
    "print \"La raiz es:\",raiz_bip(sin,-1,1,1e-8)"
   ]
  },
  {
   "cell_type": "code",
   "execution_count": 6,
   "metadata": {
    "collapsed": true
   },
   "outputs": [],
   "source": [
    "def una_func(x):\n",
    "    return (x-1)**5"
   ]
  },
  {
   "cell_type": "code",
   "execution_count": 7,
   "metadata": {
    "collapsed": false
   },
   "outputs": [
    {
     "data": {
      "image/png": "[encoded data removed]",
      "text/plain": [
       "<matplotlib.figure.Figure at 0x10c0d5710>"
      ]
     },
     "metadata": {},
     "output_type": "display_data"
    }
   ],
   "source": [
    "x=linspace(0,2)\n",
    "plot(x,una_func(x))\n",
    "grid(True)\n",
    "show()"
   ]
  },
  {
   "cell_type": "code",
   "execution_count": 8,
   "metadata": {
    "collapsed": false
   },
   "outputs": [
    {
     "name": "stdout",
     "output_type": "stream",
     "text": [
      "La raiz es: raiz exacta\n",
      "1.0\n"
     ]
    }
   ],
   "source": [
    "print \"La raiz es:\",raiz_bip(una_func,0,2)"
   ]
  },
  {
   "cell_type": "code",
   "execution_count": 9,
   "metadata": {
    "collapsed": false
   },
   "outputs": [
    {
     "name": "stdout",
     "output_type": "stream",
     "text": [
      "0\n",
      "1\n",
      "2\n",
      "3\n",
      "4\n",
      "5\n"
     ]
    }
   ],
   "source": [
    "for i in range(10):\n",
    "    print i\n",
    "    if i == 5:\n",
    "        break"
   ]
  },
  {
   "cell_type": "code",
   "execution_count": 10,
   "metadata": {
    "collapsed": true
   },
   "outputs": [],
   "source": [
    "def met_newton_1(func,d_func,x_i,err=1e-8): #método de newton x_n+1=x_n-f(x_n)/f'(x_n), para x_1 y x_2, sin embargo,\n",
    "    #para n mayores se aproxima por una parabola u otra cuadratica\n",
    "    n=0\n",
    "    while abs(func(x_i))>=err:\n",
    "        print n,\"\\t\",x_i\n",
    "        raiz=x_i-func(x_i)/d_func(x_i)\n",
    "        x_i=raiz\n",
    "        n+=1\n",
    "    return raiz"
   ]
  },
  {
   "cell_type": "code",
   "execution_count": 11,
   "metadata": {
    "collapsed": true
   },
   "outputs": [],
   "source": [
    "def una_func(x):\n",
    "    return (x-1)**5\n",
    "\n",
    "def d_una_func(x):\n",
    "    return 5*(x-1)**4"
   ]
  },
  {
   "cell_type": "code",
   "execution_count": 12,
   "metadata": {
    "collapsed": false
   },
   "outputs": [
    {
     "name": "stdout",
     "output_type": "stream",
     "text": [
      "0 \t0.1\n",
      "1 \t0.28\n",
      "2 \t0.424\n",
      "3 \t0.5392\n",
      "4 \t0.63136\n",
      "5 \t0.705088\n",
      "6 \t0.7640704\n",
      "7 \t0.81125632\n",
      "8 \t0.849005056\n",
      "9 \t0.8792040448\n",
      "10 \t0.90336323584\n",
      "11 \t0.922690588672\n",
      "12 \t0.938152470938\n",
      "13 \t0.95052197675\n",
      "14 \t0.9604175814\n",
      "15 \t0.96833406512\n",
      "16 \t0.974667252096\n",
      "0.979733801677\n"
     ]
    }
   ],
   "source": [
    "print met_newton_1(una_func,d_una_func,.1)"
   ]
  },
  {
   "cell_type": "code",
   "execution_count": 13,
   "metadata": {
    "collapsed": true
   },
   "outputs": [],
   "source": [
    "def raiz_bip(func,x_i,x_d,err=1e-5): \n",
    "    raiz=0.5*(x_i+x_d) #punto medio\n",
    "    y_i,y_d=func(x_i),func(x_d)\n",
    "    n=0\n",
    "    while abs(raiz-x_d)>=err: #error sobre el eje x, abs(raiz-x_d)=>=err  encuentra el cero del error\n",
    "        y_m=func(raiz)\n",
    "        if y_m==0:\n",
    "            print \"raiz exacta\"\n",
    "            break\n",
    "        if y_m*y_i<0:\n",
    "            x_d=raiz\n",
    "        else:\n",
    "            x_i=raiz\n",
    "        raiz=0.5*(x_i+x_d)\n",
    "        y_i,y_d=func(x_i),func(x_d)\n",
    "        n+=1\n",
    "        print n,\"\\t\",raiz\n",
    "    return raiz"
   ]
  },
  {
   "cell_type": "code",
   "execution_count": 14,
   "metadata": {
    "collapsed": false
   },
   "outputs": [
    {
     "data": {
      "image/png": "[encoded data removed]",
      "text/plain": [
       "<matplotlib.figure.Figure at 0x10c000f10>"
      ]
     },
     "metadata": {},
     "output_type": "display_data"
    }
   ],
   "source": [
    "x=linspace(0,8)\n",
    "plot(x,sin(x))\n",
    "grid(True)\n",
    "show()"
   ]
  },
  {
   "cell_type": "code",
   "execution_count": 15,
   "metadata": {
    "collapsed": false
   },
   "outputs": [
    {
     "name": "stdout",
     "output_type": "stream",
     "text": [
      "0 \t2\n",
      "1 \t4.18503986326\n",
      "2 \t2.46789367451\n",
      "3 \t3.26618627757\n",
      "4 \t3.14094391232\n",
      "3.14159265368\n"
     ]
    }
   ],
   "source": [
    "print met_newton_1(sin,cos,2)"
   ]
  },
  {
   "cell_type": "code",
   "execution_count": 16,
   "metadata": {
    "collapsed": false
   },
   "outputs": [
    {
     "name": "stdout",
     "output_type": "stream",
     "text": [
      "La raiz es: 1 \t3.25\n",
      "2 \t3.125\n",
      "3 \t3.1875\n",
      "4 \t3.15625\n",
      "5 \t3.140625\n",
      "6 \t3.1484375\n",
      "7 \t3.14453125\n",
      "8 \t3.142578125\n",
      "9 \t3.1416015625\n",
      "10 \t3.14111328125\n",
      "11 \t3.14135742188\n",
      "12 \t3.14147949219\n",
      "13 \t3.14154052734\n",
      "14 \t3.14157104492\n",
      "15 \t3.14158630371\n",
      "16 \t3.14159393311\n",
      "17 \t3.14159011841\n",
      "18 \t3.14159202576\n",
      "19 \t3.14159297943\n",
      "20 \t3.14159250259\n",
      "21 \t3.14159274101\n",
      "22 \t3.1415926218\n",
      "23 \t3.14159268141\n",
      "24 \t3.14159265161\n",
      "25 \t3.14159266651\n",
      "26 \t3.14159265906\n",
      "3.14159265906\n"
     ]
    }
   ],
   "source": [
    "print \"La raiz es:\",raiz_bip(sin,3,4,1e-8)"
   ]
  },
  {
   "cell_type": "code",
   "execution_count": 17,
   "metadata": {
    "collapsed": false
   },
   "outputs": [],
   "source": [
    "def func_new(x): #obtener raices de esta funcion\n",
    "    return x**2 + tan(sqrt(-8*x + pi))**3\n",
    "\n",
    "\n",
    "def d_func_new(x):\n",
    "    return 2*x - 12*(tan(sqrt(-8*x + pi))**2 + 1)*tan(sqrt(-8*x + pi))**2/sqrt(-8*x + pi)\n"
   ]
  },
  {
   "cell_type": "code",
   "execution_count": 34,
   "metadata": {
    "collapsed": false
   },
   "outputs": [
    {
     "data": {
      "image/png": "[encoded data removed]",
      "text/plain": [
       "<matplotlib.figure.Figure at 0x110327390>"
      ]
     },
     "metadata": {},
     "output_type": "display_data"
    }
   ],
   "source": [
    "x=linspace(-5,0,100) #metodo de raiz_bp\n",
    "ylim([-50,50])\n",
    "plot(x,func_new(x),'-')\n",
    "plot([-2.94268188477],0,'o')\n",
    "plot([-0.456489562988],0,'o')\n",
    "grid(True)\n",
    "show()"
   ]
  },
  {
   "cell_type": "code",
   "execution_count": 19,
   "metadata": {
    "collapsed": false
   },
   "outputs": [
    {
     "name": "stdout",
     "output_type": "stream",
     "text": [
      "1 \t-2.95\n",
      "2 \t-2.925\n",
      "3 \t-2.9375\n",
      "4 \t-2.94375\n",
      "5 \t-2.940625\n",
      "6 \t-2.9421875\n",
      "7 \t-2.94296875\n",
      "8 \t-2.942578125\n",
      "9 \t-2.9427734375\n",
      "10 \t-2.94267578125\n",
      "11 \t-2.94272460938\n",
      "12 \t-2.94270019531\n",
      "13 \t-2.94268798828\n",
      "14 \t-2.94268188477\n",
      "-2.94268188477\n",
      "1 \t-0.25\n",
      "2 \t-0.375\n",
      "3 \t-0.4375\n",
      "4 \t-0.46875\n",
      "5 \t-0.453125\n",
      "6 \t-0.4609375\n",
      "7 \t-0.45703125\n",
      "8 \t-0.455078125\n",
      "9 \t-0.4560546875\n",
      "10 \t-0.45654296875\n",
      "11 \t-0.456298828125\n",
      "12 \t-0.456420898438\n",
      "13 \t-0.456481933594\n",
      "14 \t-0.456512451172\n",
      "15 \t-0.456497192383\n",
      "16 \t-0.456489562988\n",
      "-0.456489562988\n"
     ]
    }
   ],
   "source": [
    "print raiz_bip(func_new,-3,-2.8)\n",
    "print raiz_bip(func_new,-1,0)"
   ]
  },
  {
   "cell_type": "code",
   "execution_count": 20,
   "metadata": {
    "collapsed": false
   },
   "outputs": [
    {
     "name": "stdout",
     "output_type": "stream",
     "text": [
      "0 \t-3\n",
      "1 \t-2.9318062049\n",
      "2 \t-2.94229732506\n",
      "3 \t-2.94267765788\n",
      "-2.94267812758\n",
      "0 \t-2\n",
      "1 \t-1.86907838324\n",
      "2 \t-1.68107595153\n",
      "3 \t-1.39424572237\n",
      "4 \t-0.967090993591\n",
      "5 \t-0.50378822788\n",
      "6 \t-0.450240824161\n",
      "7 \t-0.456372733839\n",
      "8 \t-0.456490359127\n",
      "-0.4564904006\n"
     ]
    }
   ],
   "source": [
    "print met_newton_1(func_new,d_func_new,-3)\n",
    "print met_newton_1(func_new,d_func_new,-2)"
   ]
  },
  {
   "cell_type": "code",
   "execution_count": 21,
   "metadata": {
    "collapsed": false
   },
   "outputs": [
    {
     "data": {
      "image/png": "[encoded data removed]",
      "text/plain": [
       "<matplotlib.figure.Figure at 0x10f5390d0>"
      ]
     },
     "metadata": {},
     "output_type": "display_data"
    }
   ],
   "source": [
    "x=linspace(-5,0,100) #metodo de newton\n",
    "ylim([-30,30])\n",
    "plot(x,func_new(x),'-')\n",
    "plot([-2.94267812758],0,'*',markersize=20)\n",
    "plot([-0.456490400596],0,'*',markersize=20)\n",
    "grid(True)\n",
    "show()"
   ]
  },
  {
   "cell_type": "code",
   "execution_count": 22,
   "metadata": {
    "collapsed": false
   },
   "outputs": [
    {
     "name": "stdout",
     "output_type": "stream",
     "text": [
      "0 \t1.47079632679\n",
      "1 \t-8.49584809646\n",
      "2 \t-9.8337320362\n",
      "3 \t-9.40034377122\n",
      "4 \t-9.42478282458\n",
      "-9.42477796077\n",
      "0 \t1.67079632679\n",
      "1 \t11.6374407501\n",
      "2 \t12.9753246898\n",
      "3 \t12.5419364248\n",
      "4 \t12.5663754782\n",
      "12.5663706144\n"
     ]
    }
   ],
   "source": [
    "print met_newton_1(sin,cos,pi/2-0.1)\n",
    "print met_newton_1(sin,cos,pi/2+0.1)\n",
    "\n"
   ]
  },
  {
   "cell_type": "code",
   "execution_count": 23,
   "metadata": {
    "collapsed": false
   },
   "outputs": [],
   "source": [
    "def num_dev(f,x,h=1e-4): #derivada numerica, modificando el metodo de newton\n",
    "    return (f(x+h)-f(x-h))/(2*h)"
   ]
  },
  {
   "cell_type": "code",
   "execution_count": 24,
   "metadata": {
    "collapsed": true
   },
   "outputs": [],
   "source": [
    "def met_newton_2(func,x_i,err=1e-8): #método de newton x_n+1=x_n-f(x_n)/f'(x_n), para x_1 y x_2, sin embargo,\n",
    "    #para n mayores se aproxima por una parabola u otra cuadratica, problema solo con derivada segunda,es decir la precision de esta\n",
    "    n=0\n",
    "    while abs(func(x_i))>=err:\n",
    "        print n,\"\\t\",x_i\n",
    "        raiz=x_i-func(x_i)/num_dev(func,x_i)\n",
    "        x_i=raiz\n",
    "        n+=1\n",
    "    return raiz"
   ]
  },
  {
   "cell_type": "code",
   "execution_count": 25,
   "metadata": {
    "collapsed": false
   },
   "outputs": [
    {
     "name": "stdout",
     "output_type": "stream",
     "text": [
      "0 \t1.67079632679\n",
      "1 \t11.6374407667\n",
      "2 \t12.9753246623\n",
      "3 \t12.5419364293\n",
      "4 \t12.5663754782\n",
      "12.5663706144\n",
      "12.5663706144\n"
     ]
    }
   ],
   "source": [
    "print met_newton_2(sin,pi/2+0.1)\n",
    "print 4*pi"
   ]
  },
  {
   "cell_type": "code",
   "execution_count": 26,
   "metadata": {
    "collapsed": true
   },
   "outputs": [],
   "source": [
    "def num_dev_2(f,x,h=1e-4): #derivada numerica, \n",
    "    #modificando el metodo de newton para la primera derivada con un orden de cuarto grado para h\n",
    "    return (-f(x+2*h)+8*f(x+h)-8*f(x-h)+f(x-2*h))/(12*h)"
   ]
  },
  {
   "cell_type": "code",
   "execution_count": 27,
   "metadata": {
    "collapsed": false
   },
   "outputs": [
    {
     "name": "stdout",
     "output_type": "stream",
     "text": [
      "0.923879532511\n",
      "0.923879530972\n",
      "0.923879532511\n"
     ]
    }
   ],
   "source": [
    "a=pi/8\n",
    "print cos(a) \n",
    "print num_dev(sin,a)\n",
    "print num_dev_2(sin,a) # mejor aproximacion"
   ]
  },
  {
   "cell_type": "code",
   "execution_count": null,
   "metadata": {
    "collapsed": true
   },
   "outputs": [],
   "source": []
  },
  {
   "cell_type": "code",
   "execution_count": null,
   "metadata": {
    "collapsed": true
   },
   "outputs": [],
   "source": []
  },
  {
   "cell_type": "code",
   "execution_count": null,
   "metadata": {
    "collapsed": true
   },
   "outputs": [],
   "source": []
  }
 ],
 "metadata": {
  "anaconda-cloud": {},
  "kernelspec": {
   "display_name": "Python [Root]",
   "language": "python",
   "name": "Python [Root]"
  },
  "language_info": {
   "codemirror_mode": {
    "name": "ipython",
    "version": 2
   },
   "file_extension": ".py",
   "mimetype": "text/x-python",
   "name": "python",
   "nbconvert_exporter": "python",
   "pygments_lexer": "ipython2",
   "version": "2.7.12"
  }
 },
 "nbformat": 4,
 "nbformat_minor": 0
}
